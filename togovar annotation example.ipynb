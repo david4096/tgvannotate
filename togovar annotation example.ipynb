{
 "cells": [
  {
   "cell_type": "code",
   "execution_count": 5,
   "id": "33e33fbf-8e3e-497d-9659-400291fec3a2",
   "metadata": {},
   "outputs": [],
   "source": [
    "# get the togovar TSVs\n",
    "# https://grch38.togovar.org/downloads/release/current/grch38/annotation/"
   ]
  },
  {
   "cell_type": "code",
   "execution_count": 6,
   "id": "5b3a5f34-b8da-4745-b513-a575988b502c",
   "metadata": {},
   "outputs": [],
   "source": [
    "# unzip the tsv file\n",
    "!unzip chr_22_molecular_annotation.tsv.gz"
   ]
  },
  {
   "cell_type": "code",
   "execution_count": 1,
   "id": "7323cf1c-7289-4edd-bcab-37167b336d80",
   "metadata": {},
   "outputs": [],
   "source": [
    "# convert the chromosome representation to be compatible with the file of interest\n",
    "!cat chr_22_molecular_annotation.tsv | sed 's:\\t22:\\tchr22:g' > chr_22_ann.tsv"
   ]
  },
  {
   "cell_type": "code",
   "execution_count": 2,
   "id": "cbe0ba8f-34d1-4d43-aba9-c5fa088f4105",
   "metadata": {},
   "outputs": [],
   "source": [
    "# bgzip the annotation file\n",
    "!bgzip chr_22_molecular_annotation.tsv"
   ]
  },
  {
   "cell_type": "code",
   "execution_count": 3,
   "id": "e18db716-d1c0-4023-8b6e-b79ae6abac61",
   "metadata": {},
   "outputs": [],
   "source": [
    "# use tabix to create an index\n",
    "# -S1 skip the first line\n",
    "# -s3 column 3 has the sequence name\n",
    "# -b4 column 4 has the position\n",
    "# -e4 column 4 is also the end position\n",
    "!tabix -S1 -s3 -b4 -e4 chr_22_ann.tsv.gz"
   ]
  },
  {
   "cell_type": "code",
   "execution_count": 7,
   "id": "78196fcd-7fa7-45e5-9df3-b7f9fb92789f",
   "metadata": {},
   "outputs": [],
   "source": [
    "# create an annotations header \n",
    "# this will be added to the VCF header\n",
    "!echo '##INFO=<ID=TGV,Number=1,Type=String,Description=\"tgvid\">' > tgvheader.hdr"
   ]
  },
  {
   "cell_type": "code",
   "execution_count": null,
   "id": "1ed10077-127e-4660-9266-f8e5ec63f797",
   "metadata": {},
   "outputs": [],
   "source": [
    "# run bcftools for each chrom in the vcf\n"
   ]
  }
 ],
 "metadata": {
  "kernelspec": {
   "display_name": "Python 3 (ipykernel)",
   "language": "python",
   "name": "python3"
  },
  "language_info": {
   "codemirror_mode": {
    "name": "ipython",
    "version": 3
   },
   "file_extension": ".py",
   "mimetype": "text/x-python",
   "name": "python",
   "nbconvert_exporter": "python",
   "pygments_lexer": "ipython3",
   "version": "3.12.5"
  }
 },
 "nbformat": 4,
 "nbformat_minor": 5
}
